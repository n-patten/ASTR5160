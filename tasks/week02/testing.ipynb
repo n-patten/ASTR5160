{
 "cells": [
  {
   "cell_type": "code",
   "execution_count": 1,
   "id": "67385b16",
   "metadata": {},
   "outputs": [
    {
     "name": "stdout",
     "output_type": "stream",
     "text": [
      "10.624999999999998\n",
      "41.21416666666667\n"
     ]
    }
   ],
   "source": [
    "import numpy as np\n",
    "from astropy.coordinates import SkyCoord,EarthLocation, AltAz\n",
    "from astropy.time import Time\n",
    "import astropy.units as u\n",
    "c = SkyCoord('00h42m30s', '+41d12m51s')\n",
    "print(c.ra.degree)\n",
    "print(c.dec.degree)"
   ]
  },
  {
   "cell_type": "code",
   "execution_count": 2,
   "id": "018920f4",
   "metadata": {},
   "outputs": [
    {
     "name": "stdout",
     "output_type": "stream",
     "text": [
      "2459607.2952547143\n",
      "59606.79525471413\n"
     ]
    }
   ],
   "source": [
    "nt = Time.now()\n",
    "print(nt.jd)\n",
    "print(nt.mjd)"
   ]
  },
  {
   "cell_type": "code",
   "execution_count": 3,
   "id": "7de3195a",
   "metadata": {},
   "outputs": [
    {
     "name": "stdout",
     "output_type": "stream",
     "text": [
      "2022-01-27 19:05:10.007301\n",
      "2022-01-28 19:05:10.007301\n",
      "2022-01-29 19:05:10.007301\n",
      "2022-01-30 19:05:10.007301\n",
      "2022-01-31 19:05:10.007301\n",
      "2022-02-01 19:05:10.007301\n"
     ]
    }
   ],
   "source": [
    "dates = nt+[0,1,2,3,4,5]\n",
    "for i in dates:\n",
    "    print(i)"
   ]
  },
  {
   "cell_type": "code",
   "execution_count": 4,
   "id": "36f3ad54",
   "metadata": {},
   "outputs": [],
   "source": [
    "WIRO = EarthLocation(lat='+41d05m49s' , lon='-105d58m33s', height='2943m')"
   ]
  },
  {
   "cell_type": "code",
   "execution_count": 13,
   "id": "021d7384",
   "metadata": {},
   "outputs": [
    {
     "name": "stdout",
     "output_type": "stream",
     "text": [
      "[23.44205875 45.91255729]\n"
     ]
    }
   ],
   "source": [
    "utcoffset = -6*u.hour\n",
    "time1 = Time('2022-1-27 23:00:00') - utcoffset\n",
    "time2 = Time('2022-2-27 23:00:00') - utcoffset\n",
    "times = [time1, time2]\n",
    "object = SkyCoord('12h00m00s', '+30d00m00s')\n",
    "objaltaz = object.transform_to(AltAz(obstime=times,location=WIRO))\n",
    "print(objaltaz.alt.degree)"
   ]
  },
  {
   "cell_type": "code",
   "execution_count": 18,
   "id": "a8b69933",
   "metadata": {},
   "outputs": [
    {
     "name": "stdout",
     "output_type": "stream",
     "text": [
      "[2.51369035 1.39221706]\n"
     ]
    }
   ],
   "source": [
    "print(objaltaz.secz)"
   ]
  },
  {
   "cell_type": "code",
   "execution_count": null,
   "id": "122f6a93",
   "metadata": {},
   "outputs": [],
   "source": []
  }
 ],
 "metadata": {
  "kernelspec": {
   "display_name": "Python 3 (ipykernel)",
   "language": "python",
   "name": "python3"
  },
  "language_info": {
   "codemirror_mode": {
    "name": "ipython",
    "version": 3
   },
   "file_extension": ".py",
   "mimetype": "text/x-python",
   "name": "python",
   "nbconvert_exporter": "python",
   "pygments_lexer": "ipython3",
   "version": "3.8.12"
  }
 },
 "nbformat": 4,
 "nbformat_minor": 5
}
